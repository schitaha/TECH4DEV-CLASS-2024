{
 "cells": [
  {
   "cell_type": "markdown",
   "id": "64ca4d16-cc93-43f4-855e-8624840acdeb",
   "metadata": {},
   "source": [
    "\n",
    " #### 1) Given a tuple my_tuple = (10, 20, 30, 40, 50), write a Python program to print the element at index 3."
   ]
  },
  {
   "cell_type": "code",
   "execution_count": 19,
   "id": "6d91ddf9-0ad7-4fb0-9886-383b91492052",
   "metadata": {},
   "outputs": [
    {
     "name": "stdout",
     "output_type": "stream",
     "text": [
      "Element at index 3: 40\n"
     ]
    }
   ],
   "source": [
    "my_tuple = (10, 20, 30, 40, 50)\n",
    "\n",
    "# find element at index 3\n",
    "element_at_index_3 = my_tuple[3]\n",
    "\n",
    "print(\"Element at index 3:\", element_at_index_3)"
   ]
  },
  {
   "cell_type": "markdown",
   "id": "345ca3ee-e40e-4e7d-a5f6-f32e284f68a0",
   "metadata": {},
   "source": [
    "\n",
    "  #### 2) Create a list my_list with elements from 1 to 10. Write a Python program to print elements from index 2 to 6 (inclusive).\n"
   ]
  },
  {
   "cell_type": "code",
   "execution_count": 20,
   "id": "f4d42ac1-062f-467f-9c02-1f68099e8a95",
   "metadata": {},
   "outputs": [
    {
     "name": "stdout",
     "output_type": "stream",
     "text": [
      "Elements from index 2 to 6: [3, 4, 5, 6, 7]\n"
     ]
    }
   ],
   "source": [
    "my_list = list(range(1, 11))\n",
    "\n",
    "# elements from index 2 to 6\n",
    "elements_at_index_2_to_6 = my_list[2:7]\n",
    "\n",
    "print(\"Elements from index 2 to 6:\", elements_at_index_2_to_6)\n"
   ]
  },
  {
   "cell_type": "markdown",
   "id": "c62fb56c-7caf-4bad-b9a9-ebd7a335e8d2",
   "metadata": {},
   "source": [
    "#### 3) Create a dictionary my_dict with keys as fruit names and values as their respective quantities. Write a Python program to print the quantity of the fruit 'apple'.\n"
   ]
  },
  {
   "cell_type": "code",
   "execution_count": 21,
   "id": "46caa0b0-a776-4c8d-9897-81467d1fc49a",
   "metadata": {},
   "outputs": [
    {
     "name": "stdout",
     "output_type": "stream",
     "text": [
      "Quantity of apple: 5\n"
     ]
    }
   ],
   "source": [
    "my_dict = {'apple': 5, 'banana': 3, 'orange': 8, 'grape': 12, 'kiwi': 4}\n",
    "\n",
    "# get the quantity of the fruit 'apple'\n",
    "# If the key is not present, it will return the default value, which is set to 'Fruit not found' \n",
    "quantity_of_apple = my_dict.get('apple', 'Fruit not found')\n",
    "\n",
    "print(\"Quantity of apple:\", quantity_of_apple)\n"
   ]
  },
  {
   "cell_type": "markdown",
   "id": "1729f939-afa7-40f4-a3e1-17f2f7f659bd",
   "metadata": {},
   "source": [
    "#### 4) Create two sets set1 and set2 with some common elements. Write a Python program to find the common elements between these two sets.\n"
   ]
  },
  {
   "cell_type": "code",
   "execution_count": 22,
   "id": "f16a59fc-8c89-4b30-97fc-049fee01f139",
   "metadata": {},
   "outputs": [
    {
     "name": "stdout",
     "output_type": "stream",
     "text": [
      "Common elements between set1 and set2: {4, 5}\n"
     ]
    }
   ],
   "source": [
    "# Creating sets with some common elements\n",
    "set1 = {1, 2, 3, 4, 5}\n",
    "set2 = {4, 5, 6, 7, 8}\n",
    "\n",
    "# Finding common elements\n",
    "# intersection method finds the common elements between set1 and set2. \n",
    "common_elements = set1.intersection(set2)\n",
    "\n",
    "print(\"Common elements between set1 and set2:\", common_elements)\n"
   ]
  },
  {
   "cell_type": "markdown",
   "id": "37b37fe7-073d-49fc-a6be-20970cd04b7e",
   "metadata": {},
   "source": [
    "#### 5) Given a list my_numbers = [10, 20, 30, 40, 50], write a Python program to print all elements except the first and last.\n"
   ]
  },
  {
   "cell_type": "code",
   "execution_count": 23,
   "id": "ab3ce667-9ec7-4271-8a17-f7339fc3febc",
   "metadata": {},
   "outputs": [
    {
     "name": "stdout",
     "output_type": "stream",
     "text": [
      "Elements except the first and last: [20, 30, 40]\n"
     ]
    }
   ],
   "source": [
    "my_numbers = [10, 20, 30, 40, 50]\n",
    "\n",
    "# all elements except the first and last\n",
    "elements_except_first_and_last = my_numbers[1:-1]\n",
    "\n",
    "print(\"Elements except the first and last:\", elements_except_first_and_last)\n"
   ]
  },
  {
   "cell_type": "markdown",
   "id": "75fe0d64-09df-467d-8579-7a70e62d6b16",
   "metadata": {},
   "source": [
    "#### 6) Given a tuple coordinates = (45, 60, 75), write a Python program to unpack the values and store them in variables x, y, and z. Then, print the sum of these values\n"
   ]
  },
  {
   "cell_type": "code",
   "execution_count": 24,
   "id": "0e71c5c3-1cdf-47a0-b2b8-7c428d15d1fb",
   "metadata": {},
   "outputs": [
    {
     "name": "stdout",
     "output_type": "stream",
     "text": [
      "x: 45\n",
      "y: 60\n",
      "z: 75\n",
      "Sum of coordinates: 180\n"
     ]
    }
   ],
   "source": [
    "coordinates = (45, 60, 75)\n",
    "\n",
    "# Unpacking values into variables x, y, and z\n",
    "x, y, z = coordinates\n",
    "\n",
    "# print the values\n",
    "print(\"x:\", x)\n",
    "print(\"y:\", y)\n",
    "print(\"z:\", z)\n",
    "\n",
    "# print the sum of the values\n",
    "sum_of_coordinates = x + y + z\n",
    "print(\"Sum of coordinates:\", sum_of_coordinates)\n"
   ]
  },
  {
   "cell_type": "markdown",
   "id": "3b4e3cf8-2812-433b-98b8-9abc3e92a5aa",
   "metadata": {},
   "source": [
    "#### 7) Create a list of tuples where each tuple contains a name and an associated numeric score. Write a Python program to sort the list based on the numeric score in descending order.\n"
   ]
  },
  {
   "cell_type": "code",
   "execution_count": 25,
   "id": "f1642021-0185-411f-b986-51a712682f30",
   "metadata": {},
   "outputs": [
    {
     "name": "stdout",
     "output_type": "stream",
     "text": [
      "Sorted list based on numeric score in descending order:\n",
      "David: 95\n",
      "Bob: 92\n",
      "Eve: 88\n",
      "Alice: 85\n",
      "Charlie: 78\n"
     ]
    }
   ],
   "source": [
    "# Creating a list of tuples with names and scores\n",
    "scores_list = [(\"Alice\", 85), (\"Bob\", 92), (\"Charlie\", 78), (\"David\", 95), (\"Eve\", 88)]\n",
    "\n",
    "# sort the list based on the numeric score in descending order\n",
    "sorted_scores = sorted(scores_list, key=lambda x: x[1], reverse=True)\n",
    "\n",
    "# print the sorted list\n",
    "print(\"Sorted list based on numeric score in descending order:\")\n",
    "for name, score in sorted_scores:\n",
    "    print(f\"{name}: {score}\")\n"
   ]
  },
  {
   "cell_type": "markdown",
   "id": "b6d9f381-fae8-40f8-a0d0-8becf42f2428",
   "metadata": {},
   "source": [
    "#### 8) Given a dictionary words_count = {'apple': 3, 'banana': 5, 'orange': 2}, write a Python program to create a new dictionary containing only the words with more than 2 occurrences.\n"
   ]
  },
  {
   "cell_type": "code",
   "execution_count": 26,
   "id": "26dca042-c24b-4028-8a80-eda1c32a32d2",
   "metadata": {},
   "outputs": [
    {
     "name": "stdout",
     "output_type": "stream",
     "text": [
      "New dictionary with words having more than 2 occurrences:\n",
      "{'apple': 3, 'banana': 5}\n"
     ]
    }
   ],
   "source": [
    "words_count = {'apple': 3, 'banana': 5, 'orange': 2}\n",
    "\n",
    "# create a new dictionary with words having more than 2 occurrences\n",
    "filtered_words_count = {word: count for word, count in words_count.items() if count > 2}\n",
    "\n",
    "# print the new dictionary\n",
    "print(\"New dictionary with words having more than 2 occurrences:\")\n",
    "print(filtered_words_count)\n"
   ]
  },
  {
   "cell_type": "markdown",
   "id": "3c5ba8a5-7d2a-4b61-b3ec-961ea5d26f3d",
   "metadata": {},
   "source": [
    "#### 9) Given a string sentence = \"This is a sample sentence\", write a Python program to reverse the order of words in the sentence9) Given a string sentence = \"This is a sample sentence\", write a Python program to reverse the order of words in the sentence"
   ]
  },
  {
   "cell_type": "code",
   "execution_count": 27,
   "id": "f6d051b2-3fb0-4fe0-8341-e64cc36254d5",
   "metadata": {},
   "outputs": [
    {
     "name": "stdout",
     "output_type": "stream",
     "text": [
      "Original sentence: This is a sample sentence\n",
      "Reversed sentence: sentence sample a is This\n"
     ]
    }
   ],
   "source": [
    "sentence = \"This is a sample sentence\"\n",
    "\n",
    "# split the sentence into words\n",
    "words = sentence.split()\n",
    "\n",
    "# reverse the order of words\n",
    "reversed_sentence = ' '.join(reversed(words))\n",
    "\n",
    "print(\"Original sentence:\", sentence)\n",
    "print(\"Reversed sentence:\", reversed_sentence)\n"
   ]
  },
  {
   "cell_type": "code",
   "execution_count": null,
   "id": "1f28b4df-90db-476e-9ef5-dc61732ae222",
   "metadata": {},
   "outputs": [],
   "source": []
  },
  {
   "cell_type": "code",
   "execution_count": null,
   "id": "d0c30dee-4ff6-4e4d-8d2f-f1b765246e22",
   "metadata": {},
   "outputs": [],
   "source": []
  }
 ],
 "metadata": {
  "kernelspec": {
   "display_name": "Python 3 (ipykernel)",
   "language": "python",
   "name": "python3"
  },
  "language_info": {
   "codemirror_mode": {
    "name": "ipython",
    "version": 3
   },
   "file_extension": ".py",
   "mimetype": "text/x-python",
   "name": "python",
   "nbconvert_exporter": "python",
   "pygments_lexer": "ipython3",
   "version": "3.12.1"
  }
 },
 "nbformat": 4,
 "nbformat_minor": 5
}
